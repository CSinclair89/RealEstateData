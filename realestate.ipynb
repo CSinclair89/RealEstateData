{
 "cells": [
  {
   "cell_type": "code",
   "execution_count": 127,
   "id": "626faea7",
   "metadata": {},
   "outputs": [
    {
     "data": {
      "text/html": [
       "<div>\n",
       "<style scoped>\n",
       "    .dataframe tbody tr th:only-of-type {\n",
       "        vertical-align: middle;\n",
       "    }\n",
       "\n",
       "    .dataframe tbody tr th {\n",
       "        vertical-align: top;\n",
       "    }\n",
       "\n",
       "    .dataframe thead th {\n",
       "        text-align: right;\n",
       "    }\n",
       "</style>\n",
       "<table border=\"1\" class=\"dataframe\">\n",
       "  <thead>\n",
       "    <tr style=\"text-align: right;\">\n",
       "      <th></th>\n",
       "      <th>Unnamed: 0</th>\n",
       "      <th>address</th>\n",
       "      <th>info</th>\n",
       "      <th>z_address</th>\n",
       "      <th>bathrooms</th>\n",
       "      <th>bedrooms</th>\n",
       "      <th>finishedsqft</th>\n",
       "      <th>lastsolddate</th>\n",
       "      <th>lastsoldprice</th>\n",
       "      <th>latitude</th>\n",
       "      <th>longitude</th>\n",
       "      <th>neighborhood</th>\n",
       "      <th>totalrooms</th>\n",
       "      <th>usecode</th>\n",
       "      <th>yearbuilt</th>\n",
       "      <th>zestimate</th>\n",
       "      <th>zindexvalue</th>\n",
       "      <th>zipcode</th>\n",
       "      <th>zpid</th>\n",
       "    </tr>\n",
       "  </thead>\n",
       "  <tbody>\n",
       "    <tr>\n",
       "      <th>0</th>\n",
       "      <td>2</td>\n",
       "      <td>Address: 1160 Mission Street #2007</td>\n",
       "      <td>San FranciscoSales price: 1300000Sales date: ...</td>\n",
       "      <td>1160 Mission St UNIT 2007</td>\n",
       "      <td>2.0</td>\n",
       "      <td>2.0</td>\n",
       "      <td>1043.0</td>\n",
       "      <td>02/17/2016</td>\n",
       "      <td>1300000.0</td>\n",
       "      <td>37.778705</td>\n",
       "      <td>-122.412635</td>\n",
       "      <td>South of Market</td>\n",
       "      <td>4.0</td>\n",
       "      <td>Condominium</td>\n",
       "      <td>2007.0</td>\n",
       "      <td>1167508.0</td>\n",
       "      <td>975,700</td>\n",
       "      <td>94103.0</td>\n",
       "      <td>83152781.0</td>\n",
       "    </tr>\n",
       "    <tr>\n",
       "      <th>1</th>\n",
       "      <td>5</td>\n",
       "      <td>Address: 260 King Street #475</td>\n",
       "      <td>San FranciscoSales price: 750000Sales date: 0...</td>\n",
       "      <td>260 King St UNIT 475</td>\n",
       "      <td>1.0</td>\n",
       "      <td>1.0</td>\n",
       "      <td>903.0</td>\n",
       "      <td>02/17/2016</td>\n",
       "      <td>750000.0</td>\n",
       "      <td>37.777641</td>\n",
       "      <td>-122.393417</td>\n",
       "      <td>South of Market</td>\n",
       "      <td>3.0</td>\n",
       "      <td>Condominium</td>\n",
       "      <td>2004.0</td>\n",
       "      <td>823719.0</td>\n",
       "      <td>975,700</td>\n",
       "      <td>94107.0</td>\n",
       "      <td>69819817.0</td>\n",
       "    </tr>\n",
       "    <tr>\n",
       "      <th>2</th>\n",
       "      <td>7</td>\n",
       "      <td>Address: 560 Missouri Street #B</td>\n",
       "      <td>San FranciscoSales price: 1495000Sales date: ...</td>\n",
       "      <td>560 Missouri St # B</td>\n",
       "      <td>4.0</td>\n",
       "      <td>3.0</td>\n",
       "      <td>1425.0</td>\n",
       "      <td>02/17/2016</td>\n",
       "      <td>1495000.0</td>\n",
       "      <td>37.759198</td>\n",
       "      <td>-122.396516</td>\n",
       "      <td>Potrero Hill</td>\n",
       "      <td>6.0</td>\n",
       "      <td>Condominium</td>\n",
       "      <td>2003.0</td>\n",
       "      <td>1708594.0</td>\n",
       "      <td>1,277,600</td>\n",
       "      <td>94107.0</td>\n",
       "      <td>64972847.0</td>\n",
       "    </tr>\n",
       "    <tr>\n",
       "      <th>3</th>\n",
       "      <td>9</td>\n",
       "      <td>Address: 350 Missouri Street</td>\n",
       "      <td>San FranciscoSales price: 2700000Sales date: ...</td>\n",
       "      <td>350 Missouri St</td>\n",
       "      <td>3.0</td>\n",
       "      <td>3.0</td>\n",
       "      <td>2231.0</td>\n",
       "      <td>02/17/2016</td>\n",
       "      <td>2700000.0</td>\n",
       "      <td>37.761886</td>\n",
       "      <td>-122.396769</td>\n",
       "      <td>Potrero Hill</td>\n",
       "      <td>10.0</td>\n",
       "      <td>SingleFamily</td>\n",
       "      <td>1927.0</td>\n",
       "      <td>2411236.0</td>\n",
       "      <td>1,277,600</td>\n",
       "      <td>94107.0</td>\n",
       "      <td>15149489.0</td>\n",
       "    </tr>\n",
       "    <tr>\n",
       "      <th>4</th>\n",
       "      <td>11</td>\n",
       "      <td>Address: 3658 Folsom Street</td>\n",
       "      <td>San FranciscoSales price: 1530000Sales date: ...</td>\n",
       "      <td>3658 Folsom St</td>\n",
       "      <td>3.0</td>\n",
       "      <td>3.0</td>\n",
       "      <td>1300.0</td>\n",
       "      <td>02/17/2016</td>\n",
       "      <td>1530000.0</td>\n",
       "      <td>37.740795</td>\n",
       "      <td>-122.413453</td>\n",
       "      <td>Bernal Heights</td>\n",
       "      <td>4.0</td>\n",
       "      <td>SingleFamily</td>\n",
       "      <td>1900.0</td>\n",
       "      <td>1918539.0</td>\n",
       "      <td>1,248,000</td>\n",
       "      <td>94110.0</td>\n",
       "      <td>15161978.0</td>\n",
       "    </tr>\n",
       "    <tr>\n",
       "      <th>...</th>\n",
       "      <td>...</td>\n",
       "      <td>...</td>\n",
       "      <td>...</td>\n",
       "      <td>...</td>\n",
       "      <td>...</td>\n",
       "      <td>...</td>\n",
       "      <td>...</td>\n",
       "      <td>...</td>\n",
       "      <td>...</td>\n",
       "      <td>...</td>\n",
       "      <td>...</td>\n",
       "      <td>...</td>\n",
       "      <td>...</td>\n",
       "      <td>...</td>\n",
       "      <td>...</td>\n",
       "      <td>...</td>\n",
       "      <td>...</td>\n",
       "      <td>...</td>\n",
       "      <td>...</td>\n",
       "    </tr>\n",
       "    <tr>\n",
       "      <th>11325</th>\n",
       "      <td>17615</td>\n",
       "      <td>Address: 149 Laidley Street</td>\n",
       "      <td>San FranciscoSales price: 1950000Sales date: ...</td>\n",
       "      <td>149 Laidley St</td>\n",
       "      <td>2.0</td>\n",
       "      <td>3.0</td>\n",
       "      <td>2100.0</td>\n",
       "      <td>02/03/2016</td>\n",
       "      <td>1950000.0</td>\n",
       "      <td>37.739623</td>\n",
       "      <td>-122.428899</td>\n",
       "      <td>Glen Park</td>\n",
       "      <td>10.0</td>\n",
       "      <td>SingleFamily</td>\n",
       "      <td>1900.0</td>\n",
       "      <td>1895813.0</td>\n",
       "      <td>1,628,900</td>\n",
       "      <td>94131.0</td>\n",
       "      <td>15184023.0</td>\n",
       "    </tr>\n",
       "    <tr>\n",
       "      <th>11326</th>\n",
       "      <td>17619</td>\n",
       "      <td>Address: 737 Tehama Street #1</td>\n",
       "      <td>San FranciscoSales price: 1030000Sales date: ...</td>\n",
       "      <td>737 Tehama St # 1</td>\n",
       "      <td>2.0</td>\n",
       "      <td>2.0</td>\n",
       "      <td>977.0</td>\n",
       "      <td>02/02/2016</td>\n",
       "      <td>1030000.0</td>\n",
       "      <td>37.775184</td>\n",
       "      <td>-122.411567</td>\n",
       "      <td>South of Market</td>\n",
       "      <td>5.0</td>\n",
       "      <td>MultiFamily2To4</td>\n",
       "      <td>2006.0</td>\n",
       "      <td>999443.0</td>\n",
       "      <td>957,300</td>\n",
       "      <td>94103.0</td>\n",
       "      <td>79845585.0</td>\n",
       "    </tr>\n",
       "    <tr>\n",
       "      <th>11327</th>\n",
       "      <td>17623</td>\n",
       "      <td>Address: 319 De Long Street</td>\n",
       "      <td>San FranciscoSales price: 565000Sales date: 0...</td>\n",
       "      <td>319 De Long St</td>\n",
       "      <td>1.0</td>\n",
       "      <td>2.0</td>\n",
       "      <td>875.0</td>\n",
       "      <td>02/02/2016</td>\n",
       "      <td>565000.0</td>\n",
       "      <td>37.709411</td>\n",
       "      <td>-122.465031</td>\n",
       "      <td>Outer Mission</td>\n",
       "      <td>4.0</td>\n",
       "      <td>SingleFamily</td>\n",
       "      <td>1950.0</td>\n",
       "      <td>639167.0</td>\n",
       "      <td>804,400</td>\n",
       "      <td>94112.0</td>\n",
       "      <td>15196286.0</td>\n",
       "    </tr>\n",
       "    <tr>\n",
       "      <th>11328</th>\n",
       "      <td>17624</td>\n",
       "      <td>Address: 1655 48th Avenue</td>\n",
       "      <td>San FranciscoSales price: 762000Sales date: 0...</td>\n",
       "      <td>1655 48th Ave</td>\n",
       "      <td>1.0</td>\n",
       "      <td>2.0</td>\n",
       "      <td>697.0</td>\n",
       "      <td>02/02/2016</td>\n",
       "      <td>762000.0</td>\n",
       "      <td>37.755586</td>\n",
       "      <td>-122.508063</td>\n",
       "      <td>Outer Sunset</td>\n",
       "      <td>4.0</td>\n",
       "      <td>SingleFamily</td>\n",
       "      <td>1904.0</td>\n",
       "      <td>703197.0</td>\n",
       "      <td>1,030,300</td>\n",
       "      <td>94122.0</td>\n",
       "      <td>15108054.0</td>\n",
       "    </tr>\n",
       "    <tr>\n",
       "      <th>11329</th>\n",
       "      <td>17632</td>\n",
       "      <td>Address: 4219 Folsom Street</td>\n",
       "      <td>San FranciscoSales price: 950000Sales date: 0...</td>\n",
       "      <td>4219 Folsom St</td>\n",
       "      <td>2.0</td>\n",
       "      <td>3.0</td>\n",
       "      <td>1539.0</td>\n",
       "      <td>02/01/2016</td>\n",
       "      <td>950000.0</td>\n",
       "      <td>37.734334</td>\n",
       "      <td>-122.413534</td>\n",
       "      <td>Bernal Heights</td>\n",
       "      <td>7.0</td>\n",
       "      <td>SingleFamily</td>\n",
       "      <td>1976.0</td>\n",
       "      <td>962071.0</td>\n",
       "      <td>1,214,400</td>\n",
       "      <td>94110.0</td>\n",
       "      <td>15164756.0</td>\n",
       "    </tr>\n",
       "  </tbody>\n",
       "</table>\n",
       "<p>11330 rows × 19 columns</p>\n",
       "</div>"
      ],
      "text/plain": [
       "       Unnamed: 0                             address  \\\n",
       "0               2  Address: 1160 Mission Street #2007   \n",
       "1               5       Address: 260 King Street #475   \n",
       "2               7     Address: 560 Missouri Street #B   \n",
       "3               9        Address: 350 Missouri Street   \n",
       "4              11         Address: 3658 Folsom Street   \n",
       "...           ...                                 ...   \n",
       "11325       17615         Address: 149 Laidley Street   \n",
       "11326       17619       Address: 737 Tehama Street #1   \n",
       "11327       17623         Address: 319 De Long Street   \n",
       "11328       17624           Address: 1655 48th Avenue   \n",
       "11329       17632         Address: 4219 Folsom Street   \n",
       "\n",
       "                                                    info  \\\n",
       "0       San FranciscoSales price: 1300000Sales date: ...   \n",
       "1       San FranciscoSales price: 750000Sales date: 0...   \n",
       "2       San FranciscoSales price: 1495000Sales date: ...   \n",
       "3       San FranciscoSales price: 2700000Sales date: ...   \n",
       "4       San FranciscoSales price: 1530000Sales date: ...   \n",
       "...                                                  ...   \n",
       "11325   San FranciscoSales price: 1950000Sales date: ...   \n",
       "11326   San FranciscoSales price: 1030000Sales date: ...   \n",
       "11327   San FranciscoSales price: 565000Sales date: 0...   \n",
       "11328   San FranciscoSales price: 762000Sales date: 0...   \n",
       "11329   San FranciscoSales price: 950000Sales date: 0...   \n",
       "\n",
       "                       z_address  bathrooms  bedrooms  finishedsqft  \\\n",
       "0      1160 Mission St UNIT 2007        2.0       2.0        1043.0   \n",
       "1           260 King St UNIT 475        1.0       1.0         903.0   \n",
       "2            560 Missouri St # B        4.0       3.0        1425.0   \n",
       "3                350 Missouri St        3.0       3.0        2231.0   \n",
       "4                 3658 Folsom St        3.0       3.0        1300.0   \n",
       "...                          ...        ...       ...           ...   \n",
       "11325             149 Laidley St        2.0       3.0        2100.0   \n",
       "11326          737 Tehama St # 1        2.0       2.0         977.0   \n",
       "11327             319 De Long St        1.0       2.0         875.0   \n",
       "11328              1655 48th Ave        1.0       2.0         697.0   \n",
       "11329             4219 Folsom St        2.0       3.0        1539.0   \n",
       "\n",
       "      lastsolddate  lastsoldprice   latitude   longitude     neighborhood  \\\n",
       "0       02/17/2016      1300000.0  37.778705 -122.412635  South of Market   \n",
       "1       02/17/2016       750000.0  37.777641 -122.393417  South of Market   \n",
       "2       02/17/2016      1495000.0  37.759198 -122.396516     Potrero Hill   \n",
       "3       02/17/2016      2700000.0  37.761886 -122.396769     Potrero Hill   \n",
       "4       02/17/2016      1530000.0  37.740795 -122.413453   Bernal Heights   \n",
       "...            ...            ...        ...         ...              ...   \n",
       "11325   02/03/2016      1950000.0  37.739623 -122.428899        Glen Park   \n",
       "11326   02/02/2016      1030000.0  37.775184 -122.411567  South of Market   \n",
       "11327   02/02/2016       565000.0  37.709411 -122.465031    Outer Mission   \n",
       "11328   02/02/2016       762000.0  37.755586 -122.508063     Outer Sunset   \n",
       "11329   02/01/2016       950000.0  37.734334 -122.413534   Bernal Heights   \n",
       "\n",
       "       totalrooms          usecode  yearbuilt  zestimate zindexvalue  zipcode  \\\n",
       "0             4.0      Condominium     2007.0  1167508.0     975,700  94103.0   \n",
       "1             3.0      Condominium     2004.0   823719.0     975,700  94107.0   \n",
       "2             6.0      Condominium     2003.0  1708594.0   1,277,600  94107.0   \n",
       "3            10.0     SingleFamily     1927.0  2411236.0   1,277,600  94107.0   \n",
       "4             4.0     SingleFamily     1900.0  1918539.0   1,248,000  94110.0   \n",
       "...           ...              ...        ...        ...         ...      ...   \n",
       "11325        10.0     SingleFamily     1900.0  1895813.0   1,628,900  94131.0   \n",
       "11326         5.0  MultiFamily2To4     2006.0   999443.0     957,300  94103.0   \n",
       "11327         4.0     SingleFamily     1950.0   639167.0     804,400  94112.0   \n",
       "11328         4.0     SingleFamily     1904.0   703197.0   1,030,300  94122.0   \n",
       "11329         7.0     SingleFamily     1976.0   962071.0   1,214,400  94110.0   \n",
       "\n",
       "             zpid  \n",
       "0      83152781.0  \n",
       "1      69819817.0  \n",
       "2      64972847.0  \n",
       "3      15149489.0  \n",
       "4      15161978.0  \n",
       "...           ...  \n",
       "11325  15184023.0  \n",
       "11326  79845585.0  \n",
       "11327  15196286.0  \n",
       "11328  15108054.0  \n",
       "11329  15164756.0  \n",
       "\n",
       "[11330 rows x 19 columns]"
      ]
     },
     "execution_count": 127,
     "metadata": {},
     "output_type": "execute_result"
    }
   ],
   "source": [
    "import matplotlib.pyplot as plt\n",
    "from matplotlib import pyplot as plt\n",
    "import numpy as np\n",
    "import pandas as pd\n",
    "import scipy.stats as st\n",
    "import seaborn as sns\n",
    "\n",
    "pd = pd.read_csv(\"final_data.csv\", engine = \"python\")\n",
    "pd"
   ]
  },
  {
   "cell_type": "code",
   "execution_count": 140,
   "id": "b0c174a4",
   "metadata": {},
   "outputs": [
    {
     "data": {
      "text/plain": [
       "yearbuilt     float64\n",
       "totalrooms    float64\n",
       "dtype: object"
      ]
     },
     "execution_count": 140,
     "metadata": {},
     "output_type": "execute_result"
    }
   ],
   "source": [
    "pd_task1 = pd[[\"yearbuilt\", \"totalrooms\"]]\n",
    "pd_task1.dtypes\n"
   ]
  },
  {
   "cell_type": "code",
   "execution_count": 141,
   "id": "37ef504f",
   "metadata": {},
   "outputs": [
    {
     "data": {
      "text/html": [
       "<div>\n",
       "<style scoped>\n",
       "    .dataframe tbody tr th:only-of-type {\n",
       "        vertical-align: middle;\n",
       "    }\n",
       "\n",
       "    .dataframe tbody tr th {\n",
       "        vertical-align: top;\n",
       "    }\n",
       "\n",
       "    .dataframe thead th {\n",
       "        text-align: right;\n",
       "    }\n",
       "</style>\n",
       "<table border=\"1\" class=\"dataframe\">\n",
       "  <thead>\n",
       "    <tr style=\"text-align: right;\">\n",
       "      <th></th>\n",
       "      <th>yearbuilt</th>\n",
       "      <th>totalrooms</th>\n",
       "    </tr>\n",
       "  </thead>\n",
       "  <tbody>\n",
       "    <tr>\n",
       "      <th>0</th>\n",
       "      <td>2007.0</td>\n",
       "      <td>4.0</td>\n",
       "    </tr>\n",
       "    <tr>\n",
       "      <th>1</th>\n",
       "      <td>2004.0</td>\n",
       "      <td>3.0</td>\n",
       "    </tr>\n",
       "    <tr>\n",
       "      <th>2</th>\n",
       "      <td>2003.0</td>\n",
       "      <td>6.0</td>\n",
       "    </tr>\n",
       "    <tr>\n",
       "      <th>3</th>\n",
       "      <td>1927.0</td>\n",
       "      <td>10.0</td>\n",
       "    </tr>\n",
       "    <tr>\n",
       "      <th>4</th>\n",
       "      <td>1900.0</td>\n",
       "      <td>4.0</td>\n",
       "    </tr>\n",
       "    <tr>\n",
       "      <th>...</th>\n",
       "      <td>...</td>\n",
       "      <td>...</td>\n",
       "    </tr>\n",
       "    <tr>\n",
       "      <th>11325</th>\n",
       "      <td>1900.0</td>\n",
       "      <td>10.0</td>\n",
       "    </tr>\n",
       "    <tr>\n",
       "      <th>11326</th>\n",
       "      <td>2006.0</td>\n",
       "      <td>5.0</td>\n",
       "    </tr>\n",
       "    <tr>\n",
       "      <th>11327</th>\n",
       "      <td>1950.0</td>\n",
       "      <td>4.0</td>\n",
       "    </tr>\n",
       "    <tr>\n",
       "      <th>11328</th>\n",
       "      <td>1904.0</td>\n",
       "      <td>4.0</td>\n",
       "    </tr>\n",
       "    <tr>\n",
       "      <th>11329</th>\n",
       "      <td>1976.0</td>\n",
       "      <td>7.0</td>\n",
       "    </tr>\n",
       "  </tbody>\n",
       "</table>\n",
       "<p>11230 rows × 2 columns</p>\n",
       "</div>"
      ],
      "text/plain": [
       "       yearbuilt  totalrooms\n",
       "0         2007.0         4.0\n",
       "1         2004.0         3.0\n",
       "2         2003.0         6.0\n",
       "3         1927.0        10.0\n",
       "4         1900.0         4.0\n",
       "...          ...         ...\n",
       "11325     1900.0        10.0\n",
       "11326     2006.0         5.0\n",
       "11327     1950.0         4.0\n",
       "11328     1904.0         4.0\n",
       "11329     1976.0         7.0\n",
       "\n",
       "[11230 rows x 2 columns]"
      ]
     },
     "execution_count": 141,
     "metadata": {},
     "output_type": "execute_result"
    }
   ],
   "source": [
    "pd_task1 = pd_task1[pd_task1[\"totalrooms\"] <= 15]\n",
    "pd_task1"
   ]
  },
  {
   "cell_type": "code",
   "execution_count": 142,
   "id": "1192abb4",
   "metadata": {},
   "outputs": [],
   "source": [
    "task1_x = pd_task1[\"yearbuilt\"]\n",
    "task1_y = pd_task1[\"totalrooms\"]"
   ]
  },
  {
   "cell_type": "code",
   "execution_count": 143,
   "id": "d5db84fd",
   "metadata": {},
   "outputs": [
    {
     "data": {
      "text/plain": [
       "<matplotlib.collections.PathCollection at 0x212e1e733d0>"
      ]
     },
     "execution_count": 143,
     "metadata": {},
     "output_type": "execute_result"
    },
    {
     "data": {
      "image/png": "[encoded data removed]",
      "text/plain": [
       "<Figure size 640x480 with 1 Axes>"
      ]
     },
     "metadata": {},
     "output_type": "display_data"
    }
   ],
   "source": [
    "plt.scatter(task1_x, task1_y)"
   ]
  },
  {
   "cell_type": "code",
   "execution_count": 94,
   "id": "5f22c9b0",
   "metadata": {},
   "outputs": [
    {
     "data": {
      "text/plain": [
       "array([[ 1.        , -0.37163917],\n",
       "       [-0.37163917,  1.        ]])"
      ]
     },
     "execution_count": 94,
     "metadata": {},
     "output_type": "execute_result"
    }
   ],
   "source": [
    "task1_r = np.corrcoef(task1_x, task1_y)\n",
    "task1_r"
   ]
  },
  {
   "cell_type": "code",
   "execution_count": 95,
   "id": "8cce137a",
   "metadata": {},
   "outputs": [
    {
     "data": {
      "text/plain": [
       "array([[1.        , 0.13811567],\n",
       "       [0.13811567, 1.        ]])"
      ]
     },
     "execution_count": 95,
     "metadata": {},
     "output_type": "execute_result"
    }
   ],
   "source": [
    "task1_r2 = task1_r ** 2\n",
    "task1_r2"
   ]
  },
  {
   "cell_type": "code",
   "execution_count": 99,
   "id": "55981c8a",
   "metadata": {},
   "outputs": [],
   "source": [
    "pd_task2 = pd[[\"lastsoldprice\", \"bathrooms\"]]\n",
    "pd_task2 = pd_task2[pd_task2[\"bathrooms\"] <= 10]"
   ]
  },
  {
   "cell_type": "code",
   "execution_count": 105,
   "id": "a74a4aa8",
   "metadata": {},
   "outputs": [
    {
     "name": "stdout",
     "output_type": "stream",
     "text": [
      "LinregressResult(slope=556718.2372627952, intercept=163639.32825000165, rvalue=0.546372560971904, pvalue=0.0, stderr=8019.9662290395145, intercept_stderr=17830.98008019544)\n"
     ]
    }
   ],
   "source": [
    "task2_x = pd_task2[\"bathrooms\"]\n",
    "task2_y = pd_task2[\"lastsoldprice\"]\n",
    "task2_model = st.linregress(task2_x, task2_y)\n",
    "print(task2_model)"
   ]
  },
  {
   "cell_type": "code",
   "execution_count": 108,
   "id": "d05df3a0",
   "metadata": {},
   "outputs": [
    {
     "data": {
      "image/png": "[encoded data removed]",
      "text/plain": [
       "<Figure size 640x480 with 1 Axes>"
      ]
     },
     "metadata": {},
     "output_type": "display_data"
    }
   ],
   "source": [
    "plt.scatter(task2_x, task2_y)\n",
    "plt.show()"
   ]
  },
  {
   "cell_type": "code",
   "execution_count": 107,
   "id": "40a204be",
   "metadata": {},
   "outputs": [
    {
     "data": {
      "text/plain": [
       "0.298522362384"
      ]
     },
     "execution_count": 107,
     "metadata": {},
     "output_type": "execute_result"
    }
   ],
   "source": [
    "task2_r2 = 0.546372 ** 2\n",
    "task2_r2"
   ]
  },
  {
   "cell_type": "code",
   "execution_count": 122,
   "id": "b0a4254a",
   "metadata": {},
   "outputs": [],
   "source": [
    "pd_task3 = pd[[\"finishedsqft\", \"bedrooms\"]]\n",
    "pd_task3 = pd_task3[(pd_task3[\"finishedsqft\"] < 15000) & (pd_task3[\"bedrooms\"] < 15)]"
   ]
  },
  {
   "cell_type": "code",
   "execution_count": 123,
   "id": "e3112b5b",
   "metadata": {
    "scrolled": true
   },
   "outputs": [],
   "source": [
    "task3_x = pd_task3[\"bedrooms\"]\n",
    "task3_y = pd_task3[\"finishedsqft\"]"
   ]
  },
  {
   "cell_type": "code",
   "execution_count": 135,
   "id": "e933dd45",
   "metadata": {},
   "outputs": [
    {
     "data": {
      "text/plain": [
       "<AxesSubplot:xlabel='bedrooms', ylabel='finishedsqft'>"
      ]
     },
     "execution_count": 135,
     "metadata": {},
     "output_type": "execute_result"
    },
    {
     "data": {
      "image/png": "[encoded data removed]",
      "text/plain": [
       "<Figure size 640x480 with 1 Axes>"
      ]
     },
     "metadata": {},
     "output_type": "display_data"
    }
   ],
   "source": [
    "sns.regplot(task3_x, task3_y)"
   ]
  },
  {
   "cell_type": "code",
   "execution_count": 137,
   "id": "294edce4",
   "metadata": {},
   "outputs": [
    {
     "name": "stdout",
     "output_type": "stream",
     "text": [
      "LinregressResult(slope=509.364460185595, intercept=252.88048323137264, rvalue=0.7298542860519123, pvalue=0.0, stderr=4.483482975977863, intercept_stderr=13.013068370914908)\n"
     ]
    }
   ],
   "source": [
    "task3_model = st.linregress(task3_x, task3_y)\n",
    "print(task3_model)"
   ]
  },
  {
   "cell_type": "code",
   "execution_count": 139,
   "id": "c17a4345",
   "metadata": {},
   "outputs": [
    {
     "data": {
      "text/plain": [
       "0.532686861316"
      ]
     },
     "execution_count": 139,
     "metadata": {},
     "output_type": "execute_result"
    }
   ],
   "source": [
    "task3_r = 0.729854\n",
    "task3_r2 = task3_r ** 2\n",
    "task3_r2"
   ]
  }
 ],
 "metadata": {
  "kernelspec": {
   "display_name": "Python 3 (ipykernel)",
   "language": "python",
   "name": "python3"
  },
  "language_info": {
   "codemirror_mode": {
    "name": "ipython",
    "version": 3
   },
   "file_extension": ".py",
   "mimetype": "text/x-python",
   "name": "python",
   "nbconvert_exporter": "python",
   "pygments_lexer": "ipython3",
   "version": "3.9.13"
  }
 },
 "nbformat": 4,
 "nbformat_minor": 5
}
